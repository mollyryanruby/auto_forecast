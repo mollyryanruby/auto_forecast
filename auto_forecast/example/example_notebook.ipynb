{
 "cells": [
  {
   "cell_type": "code",
   "execution_count": 1,
   "metadata": {},
   "outputs": [],
   "source": [
    "# to run notebook inside of package\n",
    "import sys\n",
    "sys.path.append('/Users/mollyliebeskind/Documents/auto_forecast/auto_forecast')\n",
    "\n",
    "# standard data manipulation imports\n",
    "import pandas as pd\n",
    "\n",
    "# import internal package functions\n",
    "from src.plotting import *\n",
    "from src.data_processing import *\n",
    "from src.modeling import SalesForecasting"
   ]
  },
  {
   "cell_type": "markdown",
   "metadata": {},
   "source": [
    "# Run the package"
   ]
  },
  {
   "cell_type": "code",
   "execution_count": 2,
   "metadata": {},
   "outputs": [
    {
     "name": "stdout",
     "output_type": "stream",
     "text": [
      "Train data shape:  (35, 14)\n",
      "Train data shape:  (35, 14)\n"
     ]
    }
   ],
   "source": [
    "value_col = 'sales'\n",
    "diffed_value_col = f\"{value_col}_differenced\"\n",
    "date_col = 'date'\n",
    "mean_freq = 'Y'\n",
    "daily_data = pd.read_csv('train.csv')\n",
    "forecast_horizon = 12\n",
    "\n",
    "monthly_data = aggregate_by_time(\n",
    "    daily_data, \n",
    "    date_col, \n",
    "    resample_freq='M', \n",
    "    aggregate='sum'\n",
    "    )\n",
    "\n",
    "monthly_data = difference_data(\n",
    "    data=monthly_data, \n",
    "    date_col=date_col,\n",
    "    value_col=value_col, \n",
    "    diff_value_col_name=diffed_value_col\n",
    "    )\n",
    "\n",
    "supervised_data = create_lag_data(\n",
    "    data=monthly_data, \n",
    "    date_col=date_col, \n",
    "    value_col=diffed_value_col, \n",
    "    lags=13)\n",
    "\n",
    "# train, test = create_train_test(supervised_data, test_size)\n",
    "\n",
    "x_cols = list(supervised_data.drop(['store', 'item', date_col, value_col, diffed_value_col], axis=1).columns)\n",
    "supervised_data = supervised_data[[date_col] + x_cols + [diffed_value_col]]\n",
    "train, test = create_train_test(supervised_data, forecast_horizon)\n",
    "\n",
    "scaler = DataScaler()\n",
    "print('Train data shape: ', train.shape)\n",
    "train_scaled = scaler.fit_transform(train)\n",
    "test_scaled = scaler.transform(test)\n",
    "print('Train data shape: ', train_scaled.shape)\n",
    "\n",
    "model = SalesForecasting(model_list=['LinearRegression'])\n",
    "model.fit(train_scaled[x_cols], train_scaled[[diffed_value_col]])\n",
    "output = model.predict(test_scaled[x_cols], y_values=test_scaled[[diffed_value_col]], scaler=scaler)"
   ]
  },
  {
   "cell_type": "code",
   "execution_count": 13,
   "metadata": {},
   "outputs": [
    {
     "data": {
      "text/html": [
       "<div>\n",
       "<style scoped>\n",
       "    .dataframe tbody tr th:only-of-type {\n",
       "        vertical-align: middle;\n",
       "    }\n",
       "\n",
       "    .dataframe tbody tr th {\n",
       "        vertical-align: top;\n",
       "    }\n",
       "\n",
       "    .dataframe thead th {\n",
       "        text-align: right;\n",
       "    }\n",
       "</style>\n",
       "<table border=\"1\" class=\"dataframe\">\n",
       "  <thead>\n",
       "    <tr style=\"text-align: right;\">\n",
       "      <th></th>\n",
       "      <th>mae</th>\n",
       "      <th>model</th>\n",
       "      <th>predictions</th>\n",
       "      <th>r2</th>\n",
       "      <th>rmse</th>\n",
       "      <th>true_values</th>\n",
       "    </tr>\n",
       "  </thead>\n",
       "  <tbody>\n",
       "    <tr>\n",
       "      <th>LinearRegression</th>\n",
       "      <td>12433.184266</td>\n",
       "      <td>LinearRegression()</td>\n",
       "      <td>[-15496.214934308946, 11031.378157652734, 1981...</td>\n",
       "      <td>0.981973</td>\n",
       "      <td>16221.272385</td>\n",
       "      <td>[-46105.0, 4063.000000000003, 201298.000000000...</td>\n",
       "    </tr>\n",
       "  </tbody>\n",
       "</table>\n",
       "</div>"
      ],
      "text/plain": [
       "                           mae               model  \\\n",
       "LinearRegression  12433.184266  LinearRegression()   \n",
       "\n",
       "                                                        predictions        r2  \\\n",
       "LinearRegression  [-15496.214934308946, 11031.378157652734, 1981...  0.981973   \n",
       "\n",
       "                          rmse  \\\n",
       "LinearRegression  16221.272385   \n",
       "\n",
       "                                                        true_values  \n",
       "LinearRegression  [-46105.0, 4063.000000000003, 201298.000000000...  "
      ]
     },
     "execution_count": 13,
     "metadata": {},
     "output_type": "execute_result"
    }
   ],
   "source": [
    "pd.DataFrame(output.stored_models).T"
   ]
  },
  {
   "cell_type": "markdown",
   "metadata": {},
   "source": [
    "# Visualize EDA"
   ]
  },
  {
   "cell_type": "code",
   "execution_count": null,
   "metadata": {},
   "outputs": [],
   "source": [
    "plot_periodic_values_hist(daily_data, value_col)"
   ]
  },
  {
   "cell_type": "code",
   "execution_count": null,
   "metadata": {},
   "outputs": [],
   "source": [
    "plot_values_per_group(daily_data, value_col, ['store'])"
   ]
  },
  {
   "cell_type": "code",
   "execution_count": null,
   "metadata": {},
   "outputs": [],
   "source": [
    "plot_time_series(monthly_data, date_col, value_col, mean_freq)"
   ]
  },
  {
   "cell_type": "markdown",
   "metadata": {},
   "source": [
    "# Visualize Data Processing"
   ]
  },
  {
   "cell_type": "code",
   "execution_count": null,
   "metadata": {},
   "outputs": [],
   "source": [
    "plot_time_series(monthly_data, date_col, diffed_value_col, mean_freq)"
   ]
  },
  {
   "cell_type": "code",
   "execution_count": null,
   "metadata": {},
   "outputs": [],
   "source": [
    "plt_acf_pcf(monthly_data, date_col, diffed_value_col)"
   ]
  },
  {
   "cell_type": "code",
   "execution_count": null,
   "metadata": {},
   "outputs": [],
   "source": [
    "\n",
    "plot_lag_cols(supervised_data, date_col, diffed_value_col, 'lag', num_lags=3)"
   ]
  },
  {
   "cell_type": "code",
   "execution_count": null,
   "metadata": {},
   "outputs": [],
   "source": [
    "visualize_train_test(train, test, date_col, diffed_value_col, figsize=(12,4))"
   ]
  }
 ],
 "metadata": {
  "kernelspec": {
   "display_name": "auto-forecasting",
   "language": "python",
   "name": "python3"
  },
  "language_info": {
   "codemirror_mode": {
    "name": "ipython",
    "version": 3
   },
   "file_extension": ".py",
   "mimetype": "text/x-python",
   "name": "python",
   "nbconvert_exporter": "python",
   "pygments_lexer": "ipython3",
   "version": "3.11.4"
  },
  "orig_nbformat": 4
 },
 "nbformat": 4,
 "nbformat_minor": 2
}
